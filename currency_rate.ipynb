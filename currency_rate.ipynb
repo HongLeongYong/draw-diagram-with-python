{
 "cells": [
  {
   "cell_type": "markdown",
   "metadata": {},
   "source": [
    "# 畫出匯率圖\n",
    "1. 基礎款，使用固定的資料，並且畫出線條圖"
   ]
  },
  {
   "cell_type": "code",
   "execution_count": null,
   "metadata": {},
   "outputs": [],
   "source": [
    "import pandas as pd\n",
    "import matplotlib.pyplot as plt\n",
    "from matplotlib.dates import DateFormatter\n",
    "\n",
    "# 假設的匯率數據\n",
    "data = {\n",
    "    'Day': ['2023-01-01', '2023-01-02', '2023-01-03', '2023-01-04', '2023-01-05'],\n",
    "    'Rate': [28.5, 28.7, 28.6, 28.55, 28.4]\n",
    "}\n",
    "\n",
    "df = pd.DataFrame(data)\n",
    "df['Day'] = pd.to_datetime(df['Day'])\n",
    "\n",
    "# 繪製圖形\n",
    "plt.figure(figsize=(10, 6))\n",
    "plt.plot(df['Day'], df['Rate'], marker='o')\n",
    "\n",
    "# 設定日期格式\n",
    "date_format = DateFormatter(\"%Y-%d-%m\")\n",
    "plt.gca().xaxis.set_major_formatter(date_format)\n",
    "\n",
    "# 其他圖表設定\n",
    "plt.title('USD to TWD Exchange Rate Over Time')\n",
    "plt.xlabel('Day')\n",
    "plt.ylabel('Exchange Rate (TWD)')\n",
    "plt.grid(True)\n",
    "\n",
    "# 顯示圖形\n",
    "plt.show()"
   ]
  }
 ],
 "metadata": {
  "kernelspec": {
   "display_name": "Python 3",
   "language": "python",
   "name": "python3"
  },
  "language_info": {
   "codemirror_mode": {
    "name": "ipython",
    "version": 3
   },
   "file_extension": ".py",
   "mimetype": "text/x-python",
   "name": "python",
   "nbconvert_exporter": "python",
   "pygments_lexer": "ipython3",
   "version": "3.11.4"
  },
  "orig_nbformat": 4
 },
 "nbformat": 4,
 "nbformat_minor": 2
}
